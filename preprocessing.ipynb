{
 "cells": [
  {
   "cell_type": "code",
   "execution_count": 1,
   "metadata": {},
   "outputs": [],
   "source": [
    "from langchain_community.document_loaders import Docx2txtLoader\n",
    "from langchain_text_splitters import RecursiveCharacterTextSplitter\n",
    "\n",
    "text_splitter = RecursiveCharacterTextSplitter(\n",
    "    chunk_size=1500,\n",
    "    chunk_overlap=200,\n",
    ")\n",
    "\n",
    "loader = Docx2txtLoader('./inu_ER.docx')\n",
    "document_list = loader.load_and_split(text_splitter=text_splitter)"
   ]
  },
  {
   "cell_type": "code",
   "execution_count": 6,
   "metadata": {},
   "outputs": [],
   "source": [
    "from langchain.document_loaders import DirectoryLoader\n",
    "from langchain_community.document_loaders import Docx2txtLoader\n",
    "from langchain_text_splitters import RecursiveCharacterTextSplitter\n",
    "\n",
    "# 텍스트 분할기 설정 (chunk 크기와 오버랩 설정)\n",
    "text_splitter = RecursiveCharacterTextSplitter(\n",
    "    chunk_size=1500,\n",
    "    chunk_overlap=200,\n",
    ")\n",
    "\n",
    "# DOCX 파일들이 저장된 폴더 경로 지정 (예: \"./docs\")\n",
    "loader = DirectoryLoader(\n",
    "    \"./data\",          # 문서들이 위치한 폴더\n",
    "    glob=\"*.docx\",     # docx 파일만 선택\n",
    "    loader_cls=Docx2txtLoader  # 각 파일을 읽을 때 사용할 로더 클래스 지정\n",
    ")\n",
    "\n",
    "# 폴더 내 모든 DOCX 문서를 로드하고 텍스트 분할 적용\n",
    "document_list = loader.load_and_split(text_splitter=text_splitter)\n"
   ]
  },
  {
   "cell_type": "code",
   "execution_count": 8,
   "metadata": {},
   "outputs": [
    {
     "data": {
      "text/plain": [
       "57"
      ]
     },
     "execution_count": 8,
     "metadata": {},
     "output_type": "execute_result"
    }
   ],
   "source": [
    "len(document_list)"
   ]
  },
  {
   "cell_type": "code",
   "execution_count": 9,
   "metadata": {},
   "outputs": [],
   "source": [
    "from dotenv import load_dotenv\n",
    "from langchain_upstage import UpstageEmbeddings\n",
    "\n",
    "# 환경변수를 불러옴\n",
    "load_dotenv()\n",
    "\n",
    "# OpenAI에서 제공하는 Embedding Model을 활용해서 `chunk`를 vector화\n",
    "embedding = UpstageEmbeddings(model='solar-embedding-1-large')"
   ]
  },
  {
   "cell_type": "code",
   "execution_count": 10,
   "metadata": {},
   "outputs": [],
   "source": [
    "# from dotenv import load_dotenv\n",
    "# from langchain_openai import OpenAIEmbeddings\n",
    "\n",
    "# # 환경변수를 불러옴\n",
    "# load_dotenv()\n",
    "\n",
    "# # OpenAI에서 제공하는 Embedding Model을 활용해서 `chunk`를 vector화\n",
    "# embedding = OpenAIEmbeddings(model='text-embedding-3-large')"
   ]
  },
  {
   "cell_type": "code",
   "execution_count": 4,
   "metadata": {},
   "outputs": [
    {
     "data": {
      "text/plain": [
       "UpstageEmbeddings(client=<openai.resources.embeddings.Embeddings object at 0x7f1ba229cbb0>, async_client=<openai.resources.embeddings.AsyncEmbeddings object at 0x7f1ba229f730>, model='solar-embedding-1-large', dimensions=None, upstage_api_key=SecretStr('**********'), upstage_api_base='https://api.upstage.ai/v1/solar', embedding_ctx_length=4096, embed_batch_size=10, allowed_special=set(), disallowed_special='all', chunk_size=1000, max_retries=2, request_timeout=None, show_progress_bar=False, model_kwargs={}, skip_empty=False, default_headers=None, default_query=None, http_client=None, http_async_client=None)"
      ]
     },
     "execution_count": 4,
     "metadata": {},
     "output_type": "execute_result"
    }
   ],
   "source": [
    "embedding"
   ]
  },
  {
   "cell_type": "code",
   "execution_count": 10,
   "metadata": {},
   "outputs": [],
   "source": [
    "from langchain_chroma import Chroma\n",
    "\n",
    "# 데이터를 처음 저장할 때 \n",
    "database = Chroma.from_documents(documents=document_list, embedding=embedding, collection_name='chroma-inu-plus', persist_directory=\"./chroma_inu-plus\")\n",
    "\n",
    "# database = Chroma(collection_name='chroma-tax', persist_directory=\"./chroma_inu\", embedding_function=embedding)"
   ]
  },
  {
   "cell_type": "code",
   "execution_count": 14,
   "metadata": {},
   "outputs": [],
   "source": [
    "query = '졸업학점은 몇 점 인가요?'\n",
    "\n",
    "# `k` 값을 조절해서 얼마나 많은 데이터를 불러올지 결정\n",
    "# retrieved_docs = database.similarity_search(query, k=3)\n",
    "retriever = database.as_retriever(    search_kwargs={\"k\": 3},)"
   ]
  },
  {
   "cell_type": "code",
   "execution_count": 15,
   "metadata": {},
   "outputs": [
    {
     "data": {
      "text/plain": [
       "[Document(id='f10d114c-cde4-4b4a-bde2-3127c33331c9', metadata={'source': './inu_ER.docx'}, page_content='② 학사과정 시 본교 대학원의 교과목을 최대 12학점까지 별도로 취득할 수 있으며 그 학점 및 성적은 대학원에서 관리한다.<개정 2023.9.1.>\\n\\n③ 제2항에 따라 취득한 학점은 최대 6학점의 범위에서 학사과정 전공심화 학점으로 중복하여 인정할 수 있다. 다만, 학과에서 석사과정 연계 전공과 유사하다고 판단한 경우에 한하고, 상이하다고 판단한 경우 또는 학생이 학·석사 연계과정을 포기한 경우에는 일반선택 학점으로 인정할 수 있다.<개정 2022.7.8., 2023.9.1.>\\n\\n④ 연계과정에 선발된 학생은 대학원 등록 전까지 대학원 지도교수의 승인을 받은 연구활동중간보고서를 대학원에 제출하여야 한다.<개정 2023.9.1., 2024.7.31.>\\n\\n\\n\\n제98조(졸업) ① 학사과정의 졸업요건을 충족하고, 취득학점의 평점평균이 3.3 이상인 학생은 7학기 말에 졸업한다. 다만, 7학기 중에 대학원 입학을 위한 등록을 하여야 한다. <개정 2023.9.1.>\\n\\n② 제98조제1항을 이행하지 않는 학생은 학사과정의 졸업요건을 충족하였음에도 불구하고 제94조에 따라 졸업할 수 없으며, 학부 8학기 등록금을 납부하여야 한다. 다만, 학사과정의 졸업사정 기준에 의한 조기졸업 요건을 충족하는 경우에는 예외로 한다.<개정 2023.9.1.>\\n\\n③ 7학기에 학사과정의 졸업요건을 충족하고, 취득학점의 평점평균이 3.3 이상인 학생이 7학기 중에 대학원에 입학하지 못한 경우, 학부 8학기 등록금을 납부하고 8학기 중에 대학원 입학을 위한 등록을 하여야 하고, 8학기 말에 졸업하여 학·석사연계과정을 이어갈 수 있다.<신설 2024.7.31.>\\n\\n\\n\\n제99조(중도포기) ① 본 과정을 이수 중인 학생이 중도에 포기를 원하는 경우에는 마지막 학기말까지 포기신청서를 대학원 지도교수의 승인을 받아 교무처장에게 제출하고 교무처장은 대학원장에게 통보한다. <개정 2023.9.1., 2024.7.31.>\\n\\n② 중도포기 또는 대학원 미입학 학생이 본 과정 이수로 인해 지급받은 장학금은 회수한다.<개정 2023.9.1.>\\n\\n\\n\\n\\n\\n\\n\\n부칙 <제181호,2024. 8. 6>\\n\\n이 학칙 시행세칙은 공포한 날부터 시행한다.\\n\\n\\n\\n법제처\\n\\n\\n\\n \\n\\n국가법령정보센터'),\n",
       " Document(id='42498a41-82d2-4b5e-8b57-4fe166b616cf', metadata={'source': './inu_ER.docx'}, page_content='② 실기발표는 2인 이상 공동으로 할 수 있되 발표는 공개되어야 한다.\\n\\n\\n\\n제89조(조기 졸업자) ① 「학칙」제22조에 따라 조기졸업을 하고자 하는 자는 4학기의 학점이 나온 후 학과(부)장 및 학장을 거쳐 교무처장에게 조기졸업신청원을 제출하여야 한다.\\n\\n② 총장은 조기졸업신청원을 근거로 그 대상자를 선정한다.\\n\\n③ 조기졸업자의 졸업논문에 관한 사항은 특별한 사정이 없는 한 이 「시행세칙」을 적용한다.\\n\\n\\n\\n제90조(학적정리) 졸업논문 평가 결과는 학점화하지 아니하고 학적부에 기재한다.\\n\\n\\n\\n제91조(심사결과 보고) 각 학장은 졸업논문 심사결과를 종합하여 졸업예정일 20일 전까지 정해진 서식에 의한 심사보고서를 교무처장에게 제출하여야 한다.\\n\\n\\n\\n제92조(합격취소) 타인의 졸업논문을 원안과 같이 복사하거나 내용의 모방이 극심하였음이 발견되었을 때에는 논문합격을 취소한다.\\n\\n\\n\\n제93조(불합격자 처리) ① 졸업논문 심사에 불합격한 자는 판정일로부터 2년(병역 복무기간 제외) 이내에 졸업논문을 재제출하여 심사를 청구할 수 있다. \\n\\n② 졸업종합시험에 불합격한 자로서 졸업논문으로 대체하고자 하는 자의 처리절차는 제1항과 같다.\\n\\n\\n\\n제13장 학·석사 연계과정\\n\\n\\n\\n제94조(학·석사 연계과정) 학·석사 연계과정(이하 “본 과정”이라 한다)은 대학원과의 연계에 한하며, 대학원 입학을 전제조건으로 한다.\\n\\n\\n\\n제95조(지원자격) 본교 5학기 또는 6학기 이수자로서, 5학기 이수자는 93학점 이상(다만, 교환학생 및 해외인턴십 프로그램 이수자에 한해 83학점 이상) 취득하고, 6학기 이수자는 111학점 이상(다만, 교환학생 및 해외인턴십 프로그램 이수자에 한해 101학점 이상) 취득하여야 하며, 그 취득학점의 평점평균이 3.3 이상이어야 한다. <개정 2023.9.1.>\\n\\n\\n\\n제96조(학생선발) ① 학생은 학·석사 연계과정을 정해진 기일 내에 대학원 지도교수 승인 및 추천서, 연구활동계획서를 첨부하여 교무처장에게 신청한다. <개정 2023.9.1., 2024.7.31.>\\n\\n<호 삭제 2023.9.1.>\\n\\n② 신청한 학생이 신청학과 변경을 희망하는 경우 대학원 입학 지원 전까지 교무처장에게 신청한다.<개정 2024.7.31.>\\n\\n③ 교무처장은 신청 및 변경신청 결과를 대학원장에게 통보한다.<신설 2024.7.31.>\\n\\n④ 대학원장은 신청사항을 대학원 입학전형을 통해 심사하고, 그 합격여부를 교무처장에게 통보한다.<신설 2024.7.31.>\\n\\n⑤ 선발된 학생이 대학원 입학전에 일반휴학을 할 경우 본 과정 선발을 취소한다.<신설 2024.7.31.>\\n\\n\\n\\n제97조(학업이수) ① 본 과정에 선발된 학생은 매 학기 24학점까지 취득할 수 있으며, 해당 학과에서 학사과정의 전공과 석사 연계과정의 전공이 유사하다고 판단한 경우에 한해서 학사과정의 졸업논문 또는 졸업시험이 면제된다. <개정 2023.9.1.>\\n\\n② 학사과정 시 본교 대학원의 교과목을 최대 12학점까지 별도로 취득할 수 있으며 그 학점 및 성적은 대학원에서 관리한다.<개정 2023.9.1.>'),\n",
       " Document(id='7f4c30bf-df68-4c0d-adad-17e289743d84', metadata={'source': './inu_ER.docx'}, page_content='③ 입학본부장은 제2항의 절차 진행에 있어 필요한 경우에는 입학허가취소 등의 대상자나 대상자의 보호자에게 관련 서류의 추가제출이나 사실관계에 대한 입증을 요구할 수 있다.<개정 2019.5.24.>\\n\\n④ 입학본부장은 대학입학전형관리위원회에 안건을 상정하기 전에 입학허가취소 등의 대상자나 대상자의 보호자에게 그 내용을 통보하고 소명의 기회를 제공하여야 한다.<신설 2017.11.2., 개정 2019.5.24.>\\n\\n\\n\\n제5조(학사편입) 삭제 <2019.5.24.>\\n\\n\\n\\n제6조(재입학) ① 재입학은 「학칙」 제36조제1항에 따른 인원의 범위에서 해당 학과(부)의 심사를 거쳐 총장이 허가한다. 다만, 다음 각 호의 어느 하나에 해당하는 학생은 재입학할 수 없다. <개정 2022.6.10.>\\n\\n1. 신·편입학생으로서 입학 후 첫 1개 학기 중에 자퇴하거나 제적된 자<신설 2022.6.10.>\\n\\n2. 징계에 의해 제명된 자<신설 2022.6.10.>\\n\\n② 재입학은 편입학에 우선하여 선발하며, 재입학을 지원하고자 하는 자는 재입학 원서 등 정해진 서류를 매 학기개시일 전 재입학 신청기간 내 교무처장에게 제출하여야 한다.\\n\\n③ 재입학 허가자로 선정된 자는 재입학 허가 학년도 해당 학기 정해진 기간 내 등록을 마쳐야 하며, 총장은 기간 내 등록하지 않을 경우 재입학 허가를 취소할 수 있다.\\n\\n④ 재입학 허가는 1회에 한한다.\\n\\n⑤ 폐지된 학과(부)의 제적생은 관련 단과대학장의 추천으로 총장이 지정하는 유사 또는 동일 학과(부)로 재입학을 지원할 수 있다.\\n\\n⑥ 학사징계 제적자에 한하여 제적된 학기 이후 1개 학기가 경과한 후에 재입학을 할 수 있다.<신설 2019.9.10., 개정 2023.9.1.>\\n\\n\\n\\n제7조(입학서류 보존) 삭제 <2019.5.24.>\\n\\n\\n\\n제3장 전과(부)\\n\\n\\n\\n제8조(전과자격) 2학년 이상 재학생 및 복학예정자로서 다음 표의 신청시기와 졸업학점에 따른 최소학점 이상을 취득하고 전체 성적 평점평균이 2.5이상인 자는 전과(부)를 신청할 수 있다. <개정 2017.6.1., 2020.6.26.>\\n\\n| 신청시기      | 졸업학점 130 | 졸업학점 131 | 졸업학점 132 | 졸업학점 133 | 졸업학점 134 | 졸업학점 135 | 졸업학점 136 | 졸업학점 137 | 졸업학점 138 | 졸업학점 139 | 졸업학점 140 |\\n\\n| :----------- | ----------:  | ----------:  | ----------:  | ----------:  | ----------:  | ----------:  | ----------:  | ----------:  | ----------:  | ----------:  | ----------:  |')]"
      ]
     },
     "execution_count": 15,
     "metadata": {},
     "output_type": "execute_result"
    }
   ],
   "source": [
    "retriever.invoke(query)"
   ]
  },
  {
   "cell_type": "code",
   "execution_count": 26,
   "metadata": {},
   "outputs": [],
   "source": [
    "from langchain_openai import ChatOpenAI\n",
    "\n",
    "llm = ChatOpenAI(model='gpt-4o')"
   ]
  },
  {
   "cell_type": "code",
   "execution_count": 29,
   "metadata": {},
   "outputs": [],
   "source": [
    "from langchain import hub\n",
    "\n",
    "retrieval_qa_chat_prompt = hub.pull(\"langchain-ai/retrieval-qa-chat\")"
   ]
  },
  {
   "cell_type": "code",
   "execution_count": 30,
   "metadata": {},
   "outputs": [],
   "source": [
    "from langchain.chains.combine_documents import create_stuff_documents_chain\n",
    "from langchain.chains import create_retrieval_chain\n",
    "\n",
    "combine_docs_chain = create_stuff_documents_chain(\n",
    "    llm, retrieval_qa_chat_prompt\n",
    ")\n",
    "retrieval_chain = create_retrieval_chain(retriever, combine_docs_chain)"
   ]
  },
  {
   "cell_type": "code",
   "execution_count": 31,
   "metadata": {},
   "outputs": [],
   "source": [
    "ai_message = retrieval_chain.invoke({\"input\": query})"
   ]
  },
  {
   "cell_type": "code",
   "execution_count": 35,
   "metadata": {},
   "outputs": [
    {
     "data": {
      "text/plain": [
       "'제공된 정보에서는 졸업학점이 130점부터 140점까지 다양하게 설정되어 있습니다. 정확한 졸업학점은 구체적인 학과나 프로그램에 따라 다를 수 있습니다.'"
      ]
     },
     "execution_count": 35,
     "metadata": {},
     "output_type": "execute_result"
    }
   ],
   "source": [
    "ai_message['answer']"
   ]
  },
  {
   "cell_type": "code",
   "execution_count": null,
   "metadata": {},
   "outputs": [],
   "source": []
  }
 ],
 "metadata": {
  "kernelspec": {
   "display_name": "streamlit",
   "language": "python",
   "name": "streamlit"
  },
  "language_info": {
   "codemirror_mode": {
    "name": "ipython",
    "version": 3
   },
   "file_extension": ".py",
   "mimetype": "text/x-python",
   "name": "python",
   "nbconvert_exporter": "python",
   "pygments_lexer": "ipython3",
   "version": "3.10.12"
  }
 },
 "nbformat": 4,
 "nbformat_minor": 2
}
